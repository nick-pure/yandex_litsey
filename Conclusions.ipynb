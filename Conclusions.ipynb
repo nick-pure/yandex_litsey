{
 "cells": [
  {
   "cell_type": "code",
   "execution_count": 254,
   "metadata": {},
   "outputs": [],
   "source": [
    "from scipy.stats import permutation_test\n",
    "from itertools import groupby\n",
    "import numpy as np"
   ]
  },
  {
   "cell_type": "code",
   "execution_count": 255,
   "metadata": {},
   "outputs": [],
   "source": [
    "all_events = []\n",
    "with open('exp_arppu_problem.tsv', 'r') as input:\n",
    "    input.readline()\n",
    "    for line in input:\n",
    "        parts = line.strip().split(\"\\t\")\n",
    "        userid = parts[0]\n",
    "        timestamp = int(parts[1])\n",
    "        action = parts[2]\n",
    "        value = float(parts[3])\n",
    "        testids = parts[4]\n",
    "        all_events.append((userid, timestamp, action, value, testids))\n",
    "\n",
    "all_events.sort(key=lambda x: x[0])"
   ]
  },
  {
   "cell_type": "markdown",
   "metadata": {},
   "source": [
    "## Интерпретатор результата перестановочного теста"
   ]
  },
  {
   "cell_type": "markdown",
   "metadata": {},
   "source": [
    "Уровень значимости $\\alpha$ всегда будет $0.05$"
   ]
  },
  {
   "cell_type": "code",
   "execution_count": 291,
   "metadata": {},
   "outputs": [],
   "source": [
    "alpha = 0.05\n",
    "def print_result(result):\n",
    "    print(result.pvalue, end=' ')\n",
    "    if result.pvalue > alpha:\n",
    "        print('gray')\n",
    "    elif result.statistic > 0:\n",
    "        print('green')\n",
    "    else:\n",
    "        print('red')"
   ]
  },
  {
   "cell_type": "markdown",
   "metadata": {},
   "source": [
    "## Разбиение на выборки"
   ]
  },
  {
   "cell_type": "code",
   "execution_count": 257,
   "metadata": {},
   "outputs": [],
   "source": [
    "exp_testid = 34265\n",
    "control_testid = 34266\n",
    "\n",
    "def with_testids(testid):\n",
    "    return lambda e: str(testid) in e[4]\n",
    "\n",
    "exp_events = list(filter(with_testids(exp_testid), all_events))\n",
    "control_events = list(filter(with_testids(control_testid), all_events))"
   ]
  },
  {
   "cell_type": "markdown",
   "metadata": {},
   "source": [
    "## Прокраска метрик ARPU и ARPPU "
   ]
  },
  {
   "cell_type": "code",
   "execution_count": 258,
   "metadata": {},
   "outputs": [],
   "source": [
    "def revenues_by_user(events):\n",
    "    return [\n",
    "    sum(e[3] for e in user_events if e[2] == \"confirmation\")\n",
    "    for user, user_events in groupby(events, lambda e: e[0])\n",
    "    ]\n",
    "exp_revenues = revenues_by_user(exp_events)\n",
    "control_revenues = revenues_by_user(control_events)"
   ]
  },
  {
   "cell_type": "code",
   "execution_count": 267,
   "metadata": {},
   "outputs": [
    {
     "name": "stdout",
     "output_type": "stream",
     "text": [
      "RESUTLS for metric ARPU: 0.001 red\n"
     ]
    }
   ],
   "source": [
    "def arpu(a):\n",
    "    return np.mean(a)\n",
    "def statistic(a, b):\n",
    "    return arpu(a) - arpu(b)\n",
    "\n",
    "np.random.seed(177)\n",
    "result = permutation_test((exp_revenues, control_revenues), statistic, permutation_type=\"independent\")\n",
    "\n",
    "print(\"RESULTS for metric ARPU: \", end='')\n",
    "print_result(result)"
   ]
  },
  {
   "cell_type": "code",
   "execution_count": 268,
   "metadata": {},
   "outputs": [
    {
     "name": "stdout",
     "output_type": "stream",
     "text": [
      "RESUTLS for metric ARPPU: 0.042 green\n"
     ]
    }
   ],
   "source": [
    "def is_pay(revenue):\n",
    "    return revenue > 0\n",
    "def arppu(a):\n",
    "    return np.mean(list(filter(is_pay, a)))\n",
    "def statistic_p(a, b):\n",
    "    return arppu(a) - arppu(b) \n",
    "\n",
    "np.random.seed(177)\n",
    "result = permutation_test((exp_revenues, control_revenues), statistic_p, permutation_type=\"independent\")\n",
    "\n",
    "print(\"RESULTS for metric ARPPU: \", end='')\n",
    "print_result(result)"
   ]
  },
  {
   "cell_type": "markdown",
   "metadata": {},
   "source": [
    "## Гипотеза №1: Увеличился средний чек заказа пользователя"
   ]
  },
  {
   "cell_type": "markdown",
   "metadata": {},
   "source": [
    "$H_{0}$ – средний чек заказа пользователя не изменился.\n",
    "$H_{A}$ – средний чек заказа изменился. "
   ]
  },
  {
   "cell_type": "code",
   "execution_count": 295,
   "metadata": {},
   "outputs": [],
   "source": [
    "def receipts_by_user(events):\n",
    "    receipts = [e[3] for e in events if e[2] == \"confirmation\"]\n",
    "    return receipts\n",
    "exp_receipts = receipts_by_user(exp_events)\n",
    "control_receipts = receipts_by_user(control_events)"
   ]
  },
  {
   "cell_type": "code",
   "execution_count": 300,
   "metadata": {},
   "outputs": [
    {
     "name": "stdout",
     "output_type": "stream",
     "text": [
      "RESULTS for metric \"Average order receipt of the user\": 0.0002 green\n"
     ]
    }
   ],
   "source": [
    "def effect(a):\n",
    "    return np.mean(a)\n",
    "def statistic(a, b):\n",
    "    return effect(a) - effect(b) \n",
    "\n",
    "result = permutation_test((exp_receipts, control_receipts), statistic, permutation_type=\"independent\")\n",
    "\n",
    "print(\"RESULTS for metric \\\"Average order receipt of the user\\\": \", end='')\n",
    "print_result(result)"
   ]
  },
  {
   "cell_type": "markdown",
   "metadata": {},
   "source": [
    "Эффект является статистически значимым, поэтому возможно опровергнуть нулевую гипотезу."
   ]
  },
  {
   "cell_type": "markdown",
   "metadata": {},
   "source": [
    "Средний чек заказа пользователя действительно увеличился, о чем свидетельствует \"green\" в результатах теста."
   ]
  },
  {
   "cell_type": "markdown",
   "metadata": {},
   "source": [
    "## Гипотеза №2: Уменьшилось количество платящих пользователей"
   ]
  },
  {
   "cell_type": "markdown",
   "metadata": {},
   "source": [
    "$H_{0}$ – количество платящих пользователей не изменилось.\n",
    "$H_{A}$ – количество платящих пользователей изменилось. "
   ]
  },
  {
   "cell_type": "code",
   "execution_count": 304,
   "metadata": {},
   "outputs": [],
   "source": [
    "def amount_of_paying_users(events):\n",
    "    return [\n",
    "    sum(e[3] for e in user_events if e[2] == \"confirmation\") > 0\n",
    "    for user, user_events in groupby(events, lambda e: e[0])\n",
    "    ]\n",
    "exp_paying_users = amount_of_paying_users(exp_events)\n",
    "control_paying_users = amount_of_paying_users(control_events)"
   ]
  },
  {
   "cell_type": "code",
   "execution_count": 305,
   "metadata": {},
   "outputs": [
    {
     "name": "stdout",
     "output_type": "stream",
     "text": [
      "RESULTS for metric \"Amount of paying users\": 0.0002 red\n"
     ]
    }
   ],
   "source": [
    "def effect(a):\n",
    "    return np.mean(a)\n",
    "def statistic(a, b):\n",
    "    return effect(a) - effect(b) \n",
    "\n",
    "result = permutation_test((exp_paying_users, control_paying_users), statistic, permutation_type=\"independent\")\n",
    "\n",
    "print(\"RESULTS for metric \\\"Amount of paying users\\\": \", end='')\n",
    "print_result(result)"
   ]
  },
  {
   "cell_type": "markdown",
   "metadata": {},
   "source": [
    "Эффект является статистически значимым, поэтому возможно опровергнуть нулевую гипотезу."
   ]
  },
  {
   "cell_type": "markdown",
   "metadata": {},
   "source": [
    "Количество платящих пользователей действительно уменьшилось, о чем свидетельствует \"red\" в результатах теста."
   ]
  },
  {
   "cell_type": "markdown",
   "metadata": {},
   "source": [
    "## Выводы"
   ]
  },
  {
   "cell_type": "markdown",
   "metadata": {},
   "source": [
    "По окончанию проверки двух гипотез удалось установить уменьшение количества платящих пользователей, но увеличение среднего чека от пользователя."
   ]
  },
  {
   "cell_type": "markdown",
   "metadata": {},
   "source": [
    "Поскольку $ARPU=\\frac{Revenue}{P+NP}$, где $P$ – количество платящих пользователей, а $NP$ – количество неплатящих пользователей, и $ARPPU=\\frac{Revenue}{P}$, где $P$ – количество платящих пользователей, то для ЛПР можно указать, что с увеличением числителя, увеличивается значение, а с увеличением знаменателя, значение уменьшается. "
   ]
  },
  {
   "cell_type": "markdown",
   "metadata": {},
   "source": []
  }
 ],
 "metadata": {
  "kernelspec": {
   "display_name": "venv",
   "language": "python",
   "name": "python3"
  },
  "language_info": {
   "codemirror_mode": {
    "name": "ipython",
    "version": 3
   },
   "file_extension": ".py",
   "mimetype": "text/x-python",
   "name": "python",
   "nbconvert_exporter": "python",
   "pygments_lexer": "ipython3",
   "version": "3.12.4"
  }
 },
 "nbformat": 4,
 "nbformat_minor": 2
}
